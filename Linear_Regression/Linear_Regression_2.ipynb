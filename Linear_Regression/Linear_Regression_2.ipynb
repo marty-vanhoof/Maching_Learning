{
 "cells": [
  {
   "cell_type": "markdown",
   "metadata": {},
   "source": [
    "# Linear Regression (continued)\n",
    "\n",
    "In a [previous report](https://github.com/marty-vanhoof/Maching_Learning/blob/master/Linear_Regression/Linear_Regression.ipynb), we went into some detail about linear regression and the batch gradient descent algorithm.  We also worked through an example in the case of simple linear regression where we had 1 feature and we were trying to fit a line to the data.  Now we will consider multiple linear regression where we have at least 2 features, which means we are trying to fit a hyperplane to the data in higher dimensions.  \n",
    "\n",
    "A picture for the case of 2 features is shown below \n",
    "\n",
    "<img src=\"least_squares_plane.png\">\n",
    "<br/>\n",
    "\n",
    "..."
   ]
  },
  {
   "cell_type": "code",
   "execution_count": 1,
   "metadata": {
    "collapsed": true
   },
   "outputs": [],
   "source": [
    "import os\n",
    "import numpy as np\n",
    "import pandas as pd\n",
    "import matplotlib.pyplot as plt\n",
    "%matplotlib inline"
   ]
  },
  {
   "cell_type": "code",
   "execution_count": 2,
   "metadata": {},
   "outputs": [
    {
     "data": {
      "text/html": [
       "<div>\n",
       "<style>\n",
       "    .dataframe thead tr:only-child th {\n",
       "        text-align: right;\n",
       "    }\n",
       "\n",
       "    .dataframe thead th {\n",
       "        text-align: left;\n",
       "    }\n",
       "\n",
       "    .dataframe tbody tr th {\n",
       "        vertical-align: top;\n",
       "    }\n",
       "</style>\n",
       "<table border=\"1\" class=\"dataframe\">\n",
       "  <thead>\n",
       "    <tr style=\"text-align: right;\">\n",
       "      <th></th>\n",
       "      <th>size</th>\n",
       "      <th>bedrooms</th>\n",
       "      <th>price</th>\n",
       "    </tr>\n",
       "  </thead>\n",
       "  <tbody>\n",
       "    <tr>\n",
       "      <th>0</th>\n",
       "      <td>2104</td>\n",
       "      <td>3</td>\n",
       "      <td>399900</td>\n",
       "    </tr>\n",
       "    <tr>\n",
       "      <th>1</th>\n",
       "      <td>1600</td>\n",
       "      <td>3</td>\n",
       "      <td>329900</td>\n",
       "    </tr>\n",
       "    <tr>\n",
       "      <th>2</th>\n",
       "      <td>2400</td>\n",
       "      <td>3</td>\n",
       "      <td>369000</td>\n",
       "    </tr>\n",
       "    <tr>\n",
       "      <th>3</th>\n",
       "      <td>1416</td>\n",
       "      <td>2</td>\n",
       "      <td>232000</td>\n",
       "    </tr>\n",
       "    <tr>\n",
       "      <th>4</th>\n",
       "      <td>3000</td>\n",
       "      <td>4</td>\n",
       "      <td>539900</td>\n",
       "    </tr>\n",
       "  </tbody>\n",
       "</table>\n",
       "</div>"
      ],
      "text/plain": [
       "   size  bedrooms   price\n",
       "0  2104         3  399900\n",
       "1  1600         3  329900\n",
       "2  2400         3  369000\n",
       "3  1416         2  232000\n",
       "4  3000         4  539900"
      ]
     },
     "execution_count": 2,
     "metadata": {},
     "output_type": "execute_result"
    }
   ],
   "source": [
    "filepath = os.getcwd() + '/ex1data2.txt'\n",
    "df = pd.read_csv(filepath, names = ['size', 'bedrooms', 'price'])\n",
    "df.head()"
   ]
  },
  {
   "cell_type": "code",
   "execution_count": 3,
   "metadata": {},
   "outputs": [
    {
     "name": "stdout",
     "output_type": "stream",
     "text": [
      "column means: \n",
      " size          2000.680851\n",
      "bedrooms         3.170213\n",
      "price       340412.659574\n",
      "\n",
      "column standard deviations: \n",
      " size           794.702354\n",
      "bedrooms         0.760982\n",
      "price       125039.899586\n"
     ]
    }
   ],
   "source": [
    "# column means and standard deviations\n",
    "print( 'column means: \\n', df.mean().to_string() )\n",
    "print()\n",
    "print( 'column standard deviations: \\n', df.std().to_string() )"
   ]
  },
  {
   "cell_type": "code",
   "execution_count": 4,
   "metadata": {},
   "outputs": [
    {
     "data": {
      "text/html": [
       "<div>\n",
       "<style>\n",
       "    .dataframe thead tr:only-child th {\n",
       "        text-align: right;\n",
       "    }\n",
       "\n",
       "    .dataframe thead th {\n",
       "        text-align: left;\n",
       "    }\n",
       "\n",
       "    .dataframe tbody tr th {\n",
       "        vertical-align: top;\n",
       "    }\n",
       "</style>\n",
       "<table border=\"1\" class=\"dataframe\">\n",
       "  <thead>\n",
       "    <tr style=\"text-align: right;\">\n",
       "      <th></th>\n",
       "      <th>size</th>\n",
       "      <th>bedrooms</th>\n",
       "      <th>price</th>\n",
       "    </tr>\n",
       "  </thead>\n",
       "  <tbody>\n",
       "    <tr>\n",
       "      <th>0</th>\n",
       "      <td>0.130010</td>\n",
       "      <td>-0.223675</td>\n",
       "      <td>0.475747</td>\n",
       "    </tr>\n",
       "    <tr>\n",
       "      <th>1</th>\n",
       "      <td>-0.504190</td>\n",
       "      <td>-0.223675</td>\n",
       "      <td>-0.084074</td>\n",
       "    </tr>\n",
       "    <tr>\n",
       "      <th>2</th>\n",
       "      <td>0.502476</td>\n",
       "      <td>-0.223675</td>\n",
       "      <td>0.228626</td>\n",
       "    </tr>\n",
       "    <tr>\n",
       "      <th>3</th>\n",
       "      <td>-0.735723</td>\n",
       "      <td>-1.537767</td>\n",
       "      <td>-0.867025</td>\n",
       "    </tr>\n",
       "    <tr>\n",
       "      <th>4</th>\n",
       "      <td>1.257476</td>\n",
       "      <td>1.090417</td>\n",
       "      <td>1.595389</td>\n",
       "    </tr>\n",
       "  </tbody>\n",
       "</table>\n",
       "</div>"
      ],
      "text/plain": [
       "       size  bedrooms     price\n",
       "0  0.130010 -0.223675  0.475747\n",
       "1 -0.504190 -0.223675 -0.084074\n",
       "2  0.502476 -0.223675  0.228626\n",
       "3 -0.735723 -1.537767 -0.867025\n",
       "4  1.257476  1.090417  1.595389"
      ]
     },
     "execution_count": 4,
     "metadata": {},
     "output_type": "execute_result"
    }
   ],
   "source": [
    "# standardize each column\n",
    "df = ( df - df.mean() ) / df.std()\n",
    "df.head()"
   ]
  },
  {
   "cell_type": "code",
   "execution_count": 5,
   "metadata": {
    "collapsed": true
   },
   "outputs": [],
   "source": [
    "# insert column of ones\n",
    "df.insert(0, 'ones', 1)\n",
    "\n",
    "# get the training data X, target variable y, and intialize theta to (0,0,0)\n",
    "X = df[['ones', 'size', 'bedrooms']]\n",
    "y = df['price']\n",
    "theta = np.array([0,0,0])\n",
    "\n",
    "# transform X, y, theta into numpy matrices\n",
    "X, y, theta = np.matrix(X), np.matrix(y).T, np.matrix(theta)"
   ]
  },
  {
   "cell_type": "markdown",
   "metadata": {
    "collapsed": true
   },
   "source": [
    "### Finding a Good Learning Rate\n",
    "\n",
    "Remember that the objective of the gradient descent algorithm is to minimize the cost function $J(\\theta)$. The learning rate $\\alpha$ controls how fast the algorithm converges.  For a smaller $\\alpha$, the algorithm takes longer to converge to the optimal value of $J(\\theta)$.  If $\\alpha$ is too large, $J(\\theta)$ can get very large and diverge.  Let's look at some plots to see how $J(\\theta)$ changes according to the number of iterations and for several different values of $\\alpha$.\n",
    "\n",
    "The graph below shows that $J(\\theta)$ converges more slowly when $\\alpha = 0.01$ and much faster when $\\alpha = 0.3$."
   ]
  },
  {
   "cell_type": "code",
   "execution_count": 74,
   "metadata": {
    "scrolled": false
   },
   "outputs": [
    {
     "data": {
      "image/png": "[encoded data removed]",
      "text/plain": [
       "<matplotlib.figure.Figure at 0x113c15d68>"
      ]
     },
     "metadata": {},
     "output_type": "display_data"
    }
   ],
   "source": [
    "from collections import defaultdict\n",
    "\n",
    "def cost_hist(alpha_vals, num_iterations):\n",
    "    '''Make a dictionary of cost histories for different values\n",
    "    of the learning rate alpha.  Each dict key is an alpha value\n",
    "    and each dict value is a list consisting of the values of the\n",
    "    cost function for each iteration of gradient_descent()'''\n",
    "    \n",
    "    hist_dict = defaultdict()\n",
    "    for alph in alpha_vals:\n",
    "        hist = gradient_descent(X, y, theta, alph, num_iterations)[1]\n",
    "        hist_dict[alph] = hist\n",
    "    \n",
    "    return hist_dict \n",
    "\n",
    "num_iter = 75\n",
    "# alpha values and colours for the plot\n",
    "a_vals = [0.01, 0.03, 0.1, 0.3] #[0.3, 0.1, 0.03, 0.01]\n",
    "colours = ['red', 'blue', 'black', 'darkviolet']\n",
    "# all the cost histories to use for the plot\n",
    "c_hist = cost_hist(a_vals, num_iter)\n",
    "\n",
    "# make the plot\n",
    "fig, ax = plt.subplots( figsize = (9,6) )\n",
    "for alph, colour in zip(a_vals, colours):\n",
    "    ax.plot( np.arange(num_iter), c_hist[alph], colour, label = 'alpha = {}'.format(alph) )\n",
    "\n",
    "ax.legend(fontsize = 'x-large')\n",
    "ax.set_xlabel('Number of Iterations', fontsize=12)\n",
    "ax.set_ylabel(r'$J(\\theta)$', fontsize=12)\n",
    "plt.show()"
   ]
  },
  {
   "cell_type": "markdown",
   "metadata": {},
   "source": [
    "### Performing the Linear Regression\n",
    "\n",
    "According the the above graph with a learning rate $\\alpha = 0.3$, the cost function $J(\\theta)$ will converge to the optimal value very quickly (it seems to get close after only 20-30 iterations).  Let's run the gradient descent algorithm with 75 iterations to try and squeeze the most juice out of it.  After a certain point, there will be very little movement in $J(\\theta)$, but 75 iterations isn't very much."
   ]
  },
  {
   "cell_type": "code",
   "execution_count": 80,
   "metadata": {},
   "outputs": [
    {
     "name": "stdout",
     "output_type": "stream",
     "text": [
      "theta_fit =  [[ -1.17961196e-16   8.84751367e-01  -5.31641983e-02]]\n",
      "\n",
      "J(theta_fit) =  0.130686480631\n"
     ]
    }
   ],
   "source": [
    "from lin_reg_scripts import gradient_descent\n",
    "\n",
    "# run gradient_descent() with the parameters below\n",
    "alpha = 0.3\n",
    "num_iterations = 75\n",
    "theta_fit, cost_hist = gradient_descent(X, y, theta, alpha, num_iterations)\n",
    "print('theta_fit = ', theta_fit)\n",
    "print()\n",
    "print('J(theta_fit) = ', cost_hist[num_iterations-1])"
   ]
  },
  {
   "cell_type": "code",
   "execution_count": null,
   "metadata": {
    "collapsed": true
   },
   "outputs": [],
   "source": []
  }
 ],
 "metadata": {
  "kernelspec": {
   "display_name": "Python 3",
   "language": "python",
   "name": "python3"
  },
  "language_info": {
   "codemirror_mode": {
    "name": "ipython",
    "version": 3
   },
   "file_extension": ".py",
   "mimetype": "text/x-python",
   "name": "python",
   "nbconvert_exporter": "python",
   "pygments_lexer": "ipython3",
   "version": "3.6.1"
  }
 },
 "nbformat": 4,
 "nbformat_minor": 2
}
