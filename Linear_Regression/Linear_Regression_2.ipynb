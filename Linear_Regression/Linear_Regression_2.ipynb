{
 "cells": [
  {
   "cell_type": "markdown",
   "metadata": {},
   "source": [
    "# Linear Regression (continued)\n",
    "\n",
    "In a [previous report](https://github.com/marty-vanhoof/Maching_Learning/blob/master/Linear_Regression/Linear_Regression.ipynb), we went into some detail about linear regression and the batch gradient descent algorithm.  We also worked through an example in the case of simple linear regression where we had 1 feature and we were trying to fit a line to the data.  Now we will consider multiple linear regression where we have at least 2 features, which means we are trying to fit a hyperplane to the data in higher dimensions.  \n",
    "\n",
    "A picture for the case of 2 features is shown below \n",
    "\n",
    "<img src=\"least_squares_plane.png\">\n",
    "<br/>\n",
    "\n",
    "..."
   ]
  },
  {
   "cell_type": "code",
   "execution_count": 1,
   "metadata": {
    "collapsed": true
   },
   "outputs": [],
   "source": [
    "import os\n",
    "import numpy as np\n",
    "import pandas as pd\n",
    "import matplotlib.pyplot as plt\n",
    "%matplotlib inline"
   ]
  },
  {
   "cell_type": "code",
   "execution_count": 2,
   "metadata": {},
   "outputs": [
    {
     "data": {
      "text/html": [
       "<div>\n",
       "<style>\n",
       "    .dataframe thead tr:only-child th {\n",
       "        text-align: right;\n",
       "    }\n",
       "\n",
       "    .dataframe thead th {\n",
       "        text-align: left;\n",
       "    }\n",
       "\n",
       "    .dataframe tbody tr th {\n",
       "        vertical-align: top;\n",
       "    }\n",
       "</style>\n",
       "<table border=\"1\" class=\"dataframe\">\n",
       "  <thead>\n",
       "    <tr style=\"text-align: right;\">\n",
       "      <th></th>\n",
       "      <th>size</th>\n",
       "      <th>bedrooms</th>\n",
       "      <th>price</th>\n",
       "    </tr>\n",
       "  </thead>\n",
       "  <tbody>\n",
       "    <tr>\n",
       "      <th>0</th>\n",
       "      <td>2104</td>\n",
       "      <td>3</td>\n",
       "      <td>399900</td>\n",
       "    </tr>\n",
       "    <tr>\n",
       "      <th>1</th>\n",
       "      <td>1600</td>\n",
       "      <td>3</td>\n",
       "      <td>329900</td>\n",
       "    </tr>\n",
       "    <tr>\n",
       "      <th>2</th>\n",
       "      <td>2400</td>\n",
       "      <td>3</td>\n",
       "      <td>369000</td>\n",
       "    </tr>\n",
       "    <tr>\n",
       "      <th>3</th>\n",
       "      <td>1416</td>\n",
       "      <td>2</td>\n",
       "      <td>232000</td>\n",
       "    </tr>\n",
       "    <tr>\n",
       "      <th>4</th>\n",
       "      <td>3000</td>\n",
       "      <td>4</td>\n",
       "      <td>539900</td>\n",
       "    </tr>\n",
       "  </tbody>\n",
       "</table>\n",
       "</div>"
      ],
      "text/plain": [
       "   size  bedrooms   price\n",
       "0  2104         3  399900\n",
       "1  1600         3  329900\n",
       "2  2400         3  369000\n",
       "3  1416         2  232000\n",
       "4  3000         4  539900"
      ]
     },
     "execution_count": 2,
     "metadata": {},
     "output_type": "execute_result"
    }
   ],
   "source": [
    "filepath = os.getcwd() + '/ex1data2.txt'\n",
    "df = pd.read_csv(filepath, names = ['size', 'bedrooms', 'price'])\n",
    "df.head()"
   ]
  },
  {
   "cell_type": "code",
   "execution_count": 3,
   "metadata": {},
   "outputs": [
    {
     "name": "stdout",
     "output_type": "stream",
     "text": [
      "column means: \n",
      " size          2000.680851\n",
      "bedrooms         3.170213\n",
      "price       340412.659574\n",
      "\n",
      "column standard deviations: \n",
      " size           794.702354\n",
      "bedrooms         0.760982\n",
      "price       125039.899586\n"
     ]
    }
   ],
   "source": [
    "# column means and standard deviations\n",
    "print( 'column means: \\n', df.mean().to_string() )\n",
    "print()\n",
    "print( 'column standard deviations: \\n', df.std().to_string() )"
   ]
  },
  {
   "cell_type": "code",
   "execution_count": 4,
   "metadata": {},
   "outputs": [
    {
     "data": {
      "text/html": [
       "<div>\n",
       "<style>\n",
       "    .dataframe thead tr:only-child th {\n",
       "        text-align: right;\n",
       "    }\n",
       "\n",
       "    .dataframe thead th {\n",
       "        text-align: left;\n",
       "    }\n",
       "\n",
       "    .dataframe tbody tr th {\n",
       "        vertical-align: top;\n",
       "    }\n",
       "</style>\n",
       "<table border=\"1\" class=\"dataframe\">\n",
       "  <thead>\n",
       "    <tr style=\"text-align: right;\">\n",
       "      <th></th>\n",
       "      <th>size</th>\n",
       "      <th>bedrooms</th>\n",
       "      <th>price</th>\n",
       "    </tr>\n",
       "  </thead>\n",
       "  <tbody>\n",
       "    <tr>\n",
       "      <th>0</th>\n",
       "      <td>0.130010</td>\n",
       "      <td>-0.223675</td>\n",
       "      <td>0.475747</td>\n",
       "    </tr>\n",
       "    <tr>\n",
       "      <th>1</th>\n",
       "      <td>-0.504190</td>\n",
       "      <td>-0.223675</td>\n",
       "      <td>-0.084074</td>\n",
       "    </tr>\n",
       "    <tr>\n",
       "      <th>2</th>\n",
       "      <td>0.502476</td>\n",
       "      <td>-0.223675</td>\n",
       "      <td>0.228626</td>\n",
       "    </tr>\n",
       "    <tr>\n",
       "      <th>3</th>\n",
       "      <td>-0.735723</td>\n",
       "      <td>-1.537767</td>\n",
       "      <td>-0.867025</td>\n",
       "    </tr>\n",
       "    <tr>\n",
       "      <th>4</th>\n",
       "      <td>1.257476</td>\n",
       "      <td>1.090417</td>\n",
       "      <td>1.595389</td>\n",
       "    </tr>\n",
       "  </tbody>\n",
       "</table>\n",
       "</div>"
      ],
      "text/plain": [
       "       size  bedrooms     price\n",
       "0  0.130010 -0.223675  0.475747\n",
       "1 -0.504190 -0.223675 -0.084074\n",
       "2  0.502476 -0.223675  0.228626\n",
       "3 -0.735723 -1.537767 -0.867025\n",
       "4  1.257476  1.090417  1.595389"
      ]
     },
     "execution_count": 4,
     "metadata": {},
     "output_type": "execute_result"
    }
   ],
   "source": [
    "# standardize each column\n",
    "df = ( df - df.mean() ) / df.std()\n",
    "df.head()"
   ]
  },
  {
   "cell_type": "code",
   "execution_count": 5,
   "metadata": {
    "collapsed": true
   },
   "outputs": [],
   "source": [
    "# insert column of ones\n",
    "df.insert(0, 'ones', 1)\n",
    "\n",
    "# get the training data X, target variable y, and intialize theta to (0,0,0)\n",
    "X = df[['ones', 'size', 'bedrooms']]\n",
    "y = df['price']\n",
    "theta = np.array([0,0,0])\n",
    "\n",
    "# transform X, y, theta into numpy matrices\n",
    "X, y, theta = np.matrix(X), np.matrix(y).T, np.matrix(theta)"
   ]
  },
  {
   "cell_type": "code",
   "execution_count": 6,
   "metadata": {},
   "outputs": [
    {
     "name": "stdout",
     "output_type": "stream",
     "text": [
      "theta_fit =  [[ -1.10913882e-16   8.84042349e-01  -5.24551809e-02]]\n",
      "\n",
      "J(theta_fit) =  0.130686706061\n"
     ]
    }
   ],
   "source": [
    "from lin_reg_scripts import compute_cost, gradient_descent\n",
    "\n",
    "# run gradient_descent with the parameters below\n",
    "alpha = 0.01\n",
    "num_iterations = 1500\n",
    "theta_fit, cost_hist = gradient_descent(X, y, theta, alpha, num_iterations)\n",
    "print('theta_fit = ', theta_fit)\n",
    "print()\n",
    "print('J(theta_fit) = ', cost_hist[1499])"
   ]
  },
  {
   "cell_type": "markdown",
   "metadata": {
    "collapsed": true
   },
   "source": [
    "### Finding a Good Learning Rate\n",
    "\n",
    "Remember that the objective of the gradient descent algorithm is to minimize the cost function $J(\\theta)$. The learning rate $\\alpha$ controls how fast the algorithm converges.  For a smaller $\\alpha$, the algorithm takes longer to converge to the optimal value of $J(\\theta)$.  If $\\alpha$ is too large, $J(\\theta)$ can get very large and diverge.  Let's look at some plots to see how $J(\\theta)$ changes according to the number of iterations and for several different values of $\\alpha$."
   ]
  },
  {
   "cell_type": "code",
   "execution_count": 135,
   "metadata": {
    "scrolled": false
   },
   "outputs": [
    {
     "data": {
      "image/png": "[encoded data removed]",
      "text/plain": [
       "<matplotlib.figure.Figure at 0x11d3df588>"
      ]
     },
     "metadata": {},
     "output_type": "display_data"
    }
   ],
   "source": [
    "from collections import defaultdict\n",
    "\n",
    "def cost_hist(alpha_vals, num_iterations):\n",
    "    '''Make a dictionary of cost histories for different values\n",
    "    of the learning rate alpha.  Each dict key is an alpha value\n",
    "    and each dict value is a list consisting of the values of the\n",
    "    cost function for each iteration of gradient_descent()'''\n",
    "    \n",
    "    hist_dict = defaultdict()\n",
    "    for alph in alpha_vals:\n",
    "        hist = gradient_descent(X, y, theta, alph, num_iterations)[1]\n",
    "        hist_dict[alph] = hist\n",
    "    \n",
    "    return hist_dict \n",
    "\n",
    "num_iter = 50\n",
    "# alpha values and colours for the plot\n",
    "a_vals = [0.3, 0.1, 0.03, 0.01]\n",
    "colours = ['red', 'blue', 'black', 'green']\n",
    "# all the cost histories to use for the plot\n",
    "c_hist = cost_hist(a_vals, num_iter)\n",
    "\n",
    "# make the plot\n",
    "fig, ax = plt.subplots( figsize = (10,6) )\n",
    "for alph, colour in zip(a_vals, colours):\n",
    "    ax.plot( np.arange(num_iter), c_hist[alph], colour, label = alph )\n",
    "\n",
    "ax.legend(fontsize = 'x-large')\n",
    "plt.show()"
   ]
  },
  {
   "cell_type": "code",
   "execution_count": null,
   "metadata": {
    "collapsed": true
   },
   "outputs": [],
   "source": []
  }
 ],
 "metadata": {
  "kernelspec": {
   "display_name": "Python 3",
   "language": "python",
   "name": "python3"
  },
  "language_info": {
   "codemirror_mode": {
    "name": "ipython",
    "version": 3
   },
   "file_extension": ".py",
   "mimetype": "text/x-python",
   "name": "python",
   "nbconvert_exporter": "python",
   "pygments_lexer": "ipython3",
   "version": "3.6.1"
  }
 },
 "nbformat": 4,
 "nbformat_minor": 2
}
