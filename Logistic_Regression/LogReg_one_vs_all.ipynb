{
 "cells": [
  {
   "cell_type": "markdown",
   "metadata": {},
   "source": [
    "# One-vs-All Classification\n",
    "\n",
    "In a [previous article](), we talked in detail about logistic regression in the case of binary classification; that is, given a set of training data $\\{ \\, ( \\mathbf{x}_1,y_1 ), ( \\mathbf{x}_2,y_2 ) \\ldots,  ( \\mathbf{x}_m,y_m ) \\, \\}$, logistic regression finds a function $h_\\theta(\\mathbf{x})$ that estimates the probability of a class label $y \\in \\{0,1\\}$ given a feature vector $\\mathbf{x}$.  We can then predict binary outcomes by specifying a probability threshold, and the threshold we use is given as follows\n",
    "\n",
    "$$ \\mathrm{prediction} =\n",
    "\\begin{cases}\n",
    "1 & \\mathrm{if} \\quad P(y = 1 \\,|\\, \\mathbf{x} ; \\theta) \\geq 0.5 \\\\ \n",
    "0 & \\mathrm{if} \\quad P(y = 0 \\,|\\, \\mathbf{x} ; \\theta) < 0.5\n",
    "\\end{cases} \n",
    "$$\n",
    "\n",
    "and recall that $\\theta$ is a vector of parameters in the logistic regression model.\n",
    "\n",
    "One-vs-all classification extends logistic regression to the case of classifying more than two class labels by considering a sequence of binary classifications.  Suppose the predictor variable $y$ can be labeled in $k$ possible ways, so $y \\in \\{ 0, 1, \\ldots, k \\}$ with $k \\geq 2$.  We can turn this into a sequence of binary classification problems and use logistic regression at each step.  \n",
    "\n",
    "First separate the labels $\\{0, 1, \\dots, k \\}$ into either 0 or $\\{1, \\dots, k \\}$ and fit a logistic regression model to this.  This logistic regression model will find a function $h_\\theta^{(0)}(\\mathbf{x})$ that classifies the training data into either 0 or "
   ]
  },
  {
   "cell_type": "code",
   "execution_count": 4,
   "metadata": {},
   "outputs": [
    {
     "data": {
      "text/plain": [
       "{'X': array([[ 0.,  0.,  0., ...,  0.,  0.,  0.],\n",
       "        [ 0.,  0.,  0., ...,  0.,  0.,  0.],\n",
       "        [ 0.,  0.,  0., ...,  0.,  0.,  0.],\n",
       "        ..., \n",
       "        [ 0.,  0.,  0., ...,  0.,  0.,  0.],\n",
       "        [ 0.,  0.,  0., ...,  0.,  0.,  0.],\n",
       "        [ 0.,  0.,  0., ...,  0.,  0.,  0.]]),\n",
       " '__globals__': [],\n",
       " '__header__': b'MATLAB 5.0 MAT-file, Platform: GLNXA64, Created on: Sun Oct 16 13:09:09 2011',\n",
       " '__version__': '1.0',\n",
       " 'y': array([[10],\n",
       "        [10],\n",
       "        [10],\n",
       "        ..., \n",
       "        [ 9],\n",
       "        [ 9],\n",
       "        [ 9]], dtype=uint8)}"
      ]
     },
     "execution_count": 4,
     "metadata": {},
     "output_type": "execute_result"
    }
   ],
   "source": [
    "import numpy as np  \n",
    "import pandas as pd \n",
    "import os\n",
    "import matplotlib.pyplot as plt  \n",
    "from scipy.io import loadmat  \n",
    "%matplotlib inline\n",
    "\n",
    "filepath = os.getcwd() + '/logReg_data3.mat'\n",
    "data = loadmat('logReg_data3.mat')\n",
    "data"
   ]
  },
  {
   "cell_type": "code",
   "execution_count": null,
   "metadata": {
    "collapsed": true
   },
   "outputs": [],
   "source": []
  }
 ],
 "metadata": {
  "kernelspec": {
   "display_name": "Python 3",
   "language": "python",
   "name": "python3"
  },
  "language_info": {
   "codemirror_mode": {
    "name": "ipython",
    "version": 3
   },
   "file_extension": ".py",
   "mimetype": "text/x-python",
   "name": "python",
   "nbconvert_exporter": "python",
   "pygments_lexer": "ipython3",
   "version": "3.6.1"
  }
 },
 "nbformat": 4,
 "nbformat_minor": 2
}
