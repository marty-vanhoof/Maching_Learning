{
 "cells": [
  {
   "cell_type": "markdown",
   "metadata": {},
   "source": [
    "# Neural Networks\n",
    "\n",
    "## Table of Contents\n",
    "- [Introduction](#intro)\n",
    "- [The Neural Network Model](#nn_model)\n",
    "- [The Dataset](#dataset)\n",
    "- [Forward Propogation](#forward_prop)\n",
    "\n",
    "<a id='intro'></a>\n",
    "### Introduction\n",
    "\n",
    "...\n",
    "\n",
    "<a id='nn_model'></a>\n",
    "### The Neural Network Model\n",
    "\n",
    "...\n",
    "\n",
    "<a id='dataset'></a>\n",
    "### The Dataset"
   ]
  },
  {
   "cell_type": "code",
   "execution_count": 4,
   "metadata": {},
   "outputs": [
    {
     "name": "stdout",
     "output_type": "stream",
     "text": [
      "X dimensions:  (5000, 400)\n",
      "y dimensions:  (5000, 1)\n",
      "data types:  <class 'numpy.ndarray'> <class 'numpy.ndarray'>\n"
     ]
    }
   ],
   "source": [
    "import numpy as np  \n",
    "import pandas as pd \n",
    "import os\n",
    "import matplotlib.pyplot as plt  \n",
    "from scipy.io import loadmat  \n",
    "%matplotlib inline\n",
    "\n",
    "# load the dataset\n",
    "data = loadmat('NNdata1.mat')\n",
    "# X is the feature matrix, y is the vector of class labels\n",
    "X, y = data['X'], data['y']\n",
    "print('X dimensions: ', X.shape)\n",
    "print('y dimensions: ', y.shape)\n",
    "print('data types: ', type(X), type(y))"
   ]
  },
  {
   "cell_type": "code",
   "execution_count": 36,
   "metadata": {},
   "outputs": [
    {
     "name": "stdout",
     "output_type": "stream",
     "text": [
      "Label [10] is transformed to [ 0.  0.  0.  0.  0.  0.  0.  0.  0.  1.]\n",
      "Label [1] is transformed to [ 1.  0.  0.  0.  0.  0.  0.  0.  0.  0.]\n",
      "Label [2] is transformed to [ 0.  1.  0.  0.  0.  0.  0.  0.  0.  0.]\n",
      "Label [3] is transformed to [ 0.  0.  1.  0.  0.  0.  0.  0.  0.  0.]\n",
      "Label [4] is transformed to [ 0.  0.  0.  1.  0.  0.  0.  0.  0.  0.]\n",
      "Label [5] is transformed to [ 0.  0.  0.  0.  1.  0.  0.  0.  0.  0.]\n",
      "Label [6] is transformed to [ 0.  0.  0.  0.  0.  1.  0.  0.  0.  0.]\n",
      "Label [7] is transformed to [ 0.  0.  0.  0.  0.  0.  1.  0.  0.  0.]\n",
      "Label [8] is transformed to [ 0.  0.  0.  0.  0.  0.  0.  1.  0.  0.]\n",
      "Label [9] is transformed to [ 0.  0.  0.  0.  0.  0.  0.  0.  1.  0.]\n",
      "\n",
      "y_new dimensions:  (5000, 10)\n"
     ]
    }
   ],
   "source": [
    "# transform each label i from 1,2,...,10 into a 10-dimensional vector with \n",
    "# a 1 at the ith index and 0s elsewhere\n",
    "from sklearn.preprocessing import OneHotEncoder\n",
    "enc = OneHotEncoder(sparse=False)\n",
    "y_new = enc.fit_transform(y)\n",
    "\n",
    "for i in range(0, 5000, 500):\n",
    "    print( 'Label {} is transformed to {}'.format(y[i], y_new[i,:]) )\n",
    "\n",
    "print('\\ny_new dimensions: ', y_new.shape)"
   ]
  },
  {
   "cell_type": "markdown",
   "metadata": {},
   "source": [
    "<a id='forward_prop'></a>\n",
    "### Forward Propogation"
   ]
  },
  {
   "cell_type": "code",
   "execution_count": 44,
   "metadata": {},
   "outputs": [],
   "source": [
    "def logistic(z):\n",
    "    \n",
    "    return 1 / (1 + np.exp(-z))\n",
    "\n",
    "def forward_propogate(X, theta1, theta2):\n",
    "    '''\n",
    "    Implement the forward propogation algorithm\n",
    "    Inputs:\n",
    "    - X is an m by (n+1) numpy matrix where m = # of training examples\n",
    "                                            n = # of features\n",
    "    - theta1 is a p by (m+1) numpy matrix, representing the matrix of\n",
    "      parameters mapping the input layer to the hidden layer.  \n",
    "      Here, p = # of units in the hidden layer\n",
    "    - theta2 is a k by (p+1) numpy matrix, where k = # of output units\n",
    "    '''\n",
    "    m = X.shape[0]\n",
    "    # insert column of ones into X\n",
    "    X = np.insert(X, 0, np.ones(m), axis=1)\n",
    "    \n",
    "    Z_2 = theta1*X\n",
    "    A_2 = logistic(Z_2)\n",
    "    return"
   ]
  },
  {
   "cell_type": "code",
   "execution_count": null,
   "metadata": {
    "collapsed": true
   },
   "outputs": [],
   "source": []
  }
 ],
 "metadata": {
  "kernelspec": {
   "display_name": "Python 3",
   "language": "python",
   "name": "python3"
  },
  "language_info": {
   "codemirror_mode": {
    "name": "ipython",
    "version": 3
   },
   "file_extension": ".py",
   "mimetype": "text/x-python",
   "name": "python",
   "nbconvert_exporter": "python",
   "pygments_lexer": "ipython3",
   "version": "3.6.1"
  }
 },
 "nbformat": 4,
 "nbformat_minor": 2
}
