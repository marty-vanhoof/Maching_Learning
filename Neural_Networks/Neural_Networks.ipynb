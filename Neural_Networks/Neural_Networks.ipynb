{
 "cells": [
  {
   "cell_type": "markdown",
   "metadata": {},
   "source": [
    "# Neural Networks\n",
    "\n",
    "## Table of Contents\n",
    "- [Introduction](#intro)\n",
    "- [The Neural Network Model](#nn_model)\n",
    "- [The Dataset](#dataset)\n",
    "\n",
    "<a id='intro'></a>\n",
    "### Introduction\n",
    "\n",
    "...\n",
    "\n",
    "<a id='nn_model'></a>\n",
    "### The Neural Network Model\n",
    "\n",
    "...\n",
    "\n",
    "<a id='dataset'></a>\n",
    "### The Dataset"
   ]
  },
  {
   "cell_type": "code",
   "execution_count": 4,
   "metadata": {},
   "outputs": [
    {
     "name": "stdout",
     "output_type": "stream",
     "text": [
      "X dimensions:  (5000, 400)\n",
      "y dimensions:  (5000, 1)\n",
      "data types:  <class 'numpy.ndarray'> <class 'numpy.ndarray'>\n"
     ]
    }
   ],
   "source": [
    "import numpy as np  \n",
    "import pandas as pd \n",
    "import os\n",
    "import matplotlib.pyplot as plt  \n",
    "from scipy.io import loadmat  \n",
    "%matplotlib inline\n",
    "\n",
    "# load the dataset\n",
    "data = loadmat('NNdata1.mat')\n",
    "# X is the feature matrix, y is the vector of class labels\n",
    "X, y = data['X'], data['y']\n",
    "print('X dimensions: ', X.shape)\n",
    "print('y dimensions: ', y.shape)\n",
    "print('data types: ', type(X), type(y))"
   ]
  },
  {
   "cell_type": "code",
   "execution_count": 31,
   "metadata": {},
   "outputs": [
    {
     "name": "stdout",
     "output_type": "stream",
     "text": [
      "Label [10] is transformed to [ 0.  0.  0.  0.  0.  0.  0.  0.  0.  1.].\n",
      "Label [1] is transformed to [ 1.  0.  0.  0.  0.  0.  0.  0.  0.  0.].\n",
      "Label [2] is transformed to [ 0.  1.  0.  0.  0.  0.  0.  0.  0.  0.].\n",
      "Label [3] is transformed to [ 0.  0.  1.  0.  0.  0.  0.  0.  0.  0.].\n",
      "Label [4] is transformed to [ 0.  0.  0.  1.  0.  0.  0.  0.  0.  0.].\n",
      "Label [5] is transformed to [ 0.  0.  0.  0.  1.  0.  0.  0.  0.  0.].\n",
      "Label [6] is transformed to [ 0.  0.  0.  0.  0.  1.  0.  0.  0.  0.].\n",
      "Label [7] is transformed to [ 0.  0.  0.  0.  0.  0.  1.  0.  0.  0.].\n",
      "Label [8] is transformed to [ 0.  0.  0.  0.  0.  0.  0.  1.  0.  0.].\n",
      "Label [9] is transformed to [ 0.  0.  0.  0.  0.  0.  0.  0.  1.  0.].\n"
     ]
    }
   ],
   "source": [
    "# transform each label i from 1,2,...,10 into a 10-dimensional vector with \n",
    "# a 1 at the ith index and 0s elsewhere\n",
    "from sklearn.preprocessing import OneHotEncoder\n",
    "enc = OneHotEncoder(sparse=False)\n",
    "y_new = enc.fit_transform(y)\n",
    "# show the transformations\n",
    "for i in range(0, 5000, 500):\n",
    "    print( 'Label {} is transformed to {}.'.format(y[i], y_new[i,:]) )"
   ]
  },
  {
   "cell_type": "code",
   "execution_count": null,
   "metadata": {
    "collapsed": true
   },
   "outputs": [],
   "source": []
  }
 ],
 "metadata": {
  "kernelspec": {
   "display_name": "Python 3",
   "language": "python",
   "name": "python3"
  },
  "language_info": {
   "codemirror_mode": {
    "name": "ipython",
    "version": 3
   },
   "file_extension": ".py",
   "mimetype": "text/x-python",
   "name": "python",
   "nbconvert_exporter": "python",
   "pygments_lexer": "ipython3",
   "version": "3.6.1"
  }
 },
 "nbformat": 4,
 "nbformat_minor": 2
}
