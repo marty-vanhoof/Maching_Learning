{
 "cells": [
  {
   "cell_type": "markdown",
   "metadata": {},
   "source": [
    "# Linear Regression\n",
    "\n",
    "We can think of linear regression as the \"grandfather\" of supervised machine learning.  It developed as an important technique in statistics long before machine learning existed as a field in its own right.  The idea in supervised learning is that we have a data set called the **training data**.  The training data consists of a set of pairs $\\{ \\, ( x^{(1)},y^{(1)} ), ( x^{(2)},y^{(2)} ) \\ldots, ( x^{(m)},y^{(m)} ) \\, \\}$, where each input variable $x^{(i)}$ is a vector called a **feature vector**, and the output variables $y^{(i)}$ (usually real numbers) are the corresponding **labels**.  \n",
    "\n",
    "If $\\mathcal{X}$ is the input space and $\\mathcal{Y}$ is the output space, then the objective of a supervised learning algorithm is to \"learn\" a function $h: \\mathcal{X} \\rightarrow \\mathcal{Y}$ that approximates the training data and will generalize in order to predit the output for new instances.  When the target space $\\mathcal{Y}$ consists of continuous data, then the learning problem is called a **regression** problem.  When the target space $\\mathcal{Y}$ consists of discrete data, then the learning problem is called a **classification** problem.\n",
    "\n",
    "## Simple Linear Regression\n",
    "\n",
    "In simple linear regression, we have $\\mathcal{X} = \\mathcal{Y} = \\mathbb{R}$, so that $h: \\mathbb{R} \\rightarrow \\mathbb{R}$ is a function from the real numbers to the real numbers, and $h$ is a linear function of the form $h_{\\theta}(x) = \\theta_0 + \\theta_1 x$, where $\\theta_1, \\theta_2$ are called the **weights**.  The training data will then consist of a bunch of points in the plane, and we are trying the find a line that \"best fits\" the data.  This line is called the **least squares line**:\n",
    "\n",
    "<img src=\"least_squares_line.png\">\n",
    "<br/>\n",
    "\n",
    "The image is the same one that's in the [wikipedia article](https://en.wikipedia.org/wiki/Linear_regression) about linear regression."
   ]
  },
  {
   "cell_type": "code",
   "execution_count": 1,
   "metadata": {
    "collapsed": true
   },
   "outputs": [],
   "source": [
    "import os\n",
    "import numpy as np\n",
    "import pandas as pd\n",
    "import matplotlib.pyplot as plt\n",
    "%matplotlib inline"
   ]
  },
  {
   "cell_type": "code",
   "execution_count": 2,
   "metadata": {},
   "outputs": [
    {
     "data": {
      "text/html": [
       "<div>\n",
       "<style>\n",
       "    .dataframe thead tr:only-child th {\n",
       "        text-align: right;\n",
       "    }\n",
       "\n",
       "    .dataframe thead th {\n",
       "        text-align: left;\n",
       "    }\n",
       "\n",
       "    .dataframe tbody tr th {\n",
       "        vertical-align: top;\n",
       "    }\n",
       "</style>\n",
       "<table border=\"1\" class=\"dataframe\">\n",
       "  <thead>\n",
       "    <tr style=\"text-align: right;\">\n",
       "      <th></th>\n",
       "      <th>population</th>\n",
       "      <th>profit</th>\n",
       "    </tr>\n",
       "  </thead>\n",
       "  <tbody>\n",
       "    <tr>\n",
       "      <th>0</th>\n",
       "      <td>6.1101</td>\n",
       "      <td>17.5920</td>\n",
       "    </tr>\n",
       "    <tr>\n",
       "      <th>1</th>\n",
       "      <td>5.5277</td>\n",
       "      <td>9.1302</td>\n",
       "    </tr>\n",
       "    <tr>\n",
       "      <th>2</th>\n",
       "      <td>8.5186</td>\n",
       "      <td>13.6620</td>\n",
       "    </tr>\n",
       "    <tr>\n",
       "      <th>3</th>\n",
       "      <td>7.0032</td>\n",
       "      <td>11.8540</td>\n",
       "    </tr>\n",
       "    <tr>\n",
       "      <th>4</th>\n",
       "      <td>5.8598</td>\n",
       "      <td>6.8233</td>\n",
       "    </tr>\n",
       "  </tbody>\n",
       "</table>\n",
       "</div>"
      ],
      "text/plain": [
       "   population   profit\n",
       "0      6.1101  17.5920\n",
       "1      5.5277   9.1302\n",
       "2      8.5186  13.6620\n",
       "3      7.0032  11.8540\n",
       "4      5.8598   6.8233"
      ]
     },
     "execution_count": 2,
     "metadata": {},
     "output_type": "execute_result"
    }
   ],
   "source": [
    "filepath = os.getcwd() + '/ex1data1.txt'\n",
    "df = pd.read_csv(filepath, names = ['population', 'profit'])\n",
    "df.head()"
   ]
  },
  {
   "cell_type": "code",
   "execution_count": 3,
   "metadata": {},
   "outputs": [
    {
     "data": {
      "text/html": [
       "<div>\n",
       "<style>\n",
       "    .dataframe thead tr:only-child th {\n",
       "        text-align: right;\n",
       "    }\n",
       "\n",
       "    .dataframe thead th {\n",
       "        text-align: left;\n",
       "    }\n",
       "\n",
       "    .dataframe tbody tr th {\n",
       "        vertical-align: top;\n",
       "    }\n",
       "</style>\n",
       "<table border=\"1\" class=\"dataframe\">\n",
       "  <thead>\n",
       "    <tr style=\"text-align: right;\">\n",
       "      <th></th>\n",
       "      <th>population</th>\n",
       "      <th>profit</th>\n",
       "    </tr>\n",
       "  </thead>\n",
       "  <tbody>\n",
       "    <tr>\n",
       "      <th>0</th>\n",
       "      <td>61101.0</td>\n",
       "      <td>175920.0</td>\n",
       "    </tr>\n",
       "    <tr>\n",
       "      <th>1</th>\n",
       "      <td>55277.0</td>\n",
       "      <td>91302.0</td>\n",
       "    </tr>\n",
       "    <tr>\n",
       "      <th>2</th>\n",
       "      <td>85186.0</td>\n",
       "      <td>136620.0</td>\n",
       "    </tr>\n",
       "    <tr>\n",
       "      <th>3</th>\n",
       "      <td>70032.0</td>\n",
       "      <td>118540.0</td>\n",
       "    </tr>\n",
       "    <tr>\n",
       "      <th>4</th>\n",
       "      <td>58598.0</td>\n",
       "      <td>68233.0</td>\n",
       "    </tr>\n",
       "  </tbody>\n",
       "</table>\n",
       "</div>"
      ],
      "text/plain": [
       "   population    profit\n",
       "0     61101.0  175920.0\n",
       "1     55277.0   91302.0\n",
       "2     85186.0  136620.0\n",
       "3     70032.0  118540.0\n",
       "4     58598.0   68233.0"
      ]
     },
     "execution_count": 3,
     "metadata": {},
     "output_type": "execute_result"
    }
   ],
   "source": [
    "# the population and profit columns above are in units of 10,000\n",
    "# so let's change the values back to the raw numbers\n",
    "df = df.apply(lambda x: x*10000)\n",
    "df.head()"
   ]
  },
  {
   "cell_type": "code",
   "execution_count": 4,
   "metadata": {},
   "outputs": [
    {
     "data": {
      "text/html": [
       "<div>\n",
       "<style>\n",
       "    .dataframe thead tr:only-child th {\n",
       "        text-align: right;\n",
       "    }\n",
       "\n",
       "    .dataframe thead th {\n",
       "        text-align: left;\n",
       "    }\n",
       "\n",
       "    .dataframe tbody tr th {\n",
       "        vertical-align: top;\n",
       "    }\n",
       "</style>\n",
       "<table border=\"1\" class=\"dataframe\">\n",
       "  <thead>\n",
       "    <tr style=\"text-align: right;\">\n",
       "      <th></th>\n",
       "      <th>population</th>\n",
       "      <th>profit</th>\n",
       "    </tr>\n",
       "  </thead>\n",
       "  <tbody>\n",
       "    <tr>\n",
       "      <th>count</th>\n",
       "      <td>97.00</td>\n",
       "      <td>97.00</td>\n",
       "    </tr>\n",
       "    <tr>\n",
       "      <th>mean</th>\n",
       "      <td>81598.00</td>\n",
       "      <td>58391.35</td>\n",
       "    </tr>\n",
       "    <tr>\n",
       "      <th>std</th>\n",
       "      <td>38698.84</td>\n",
       "      <td>55102.62</td>\n",
       "    </tr>\n",
       "    <tr>\n",
       "      <th>min</th>\n",
       "      <td>50269.00</td>\n",
       "      <td>-26807.00</td>\n",
       "    </tr>\n",
       "    <tr>\n",
       "      <th>25%</th>\n",
       "      <td>57077.00</td>\n",
       "      <td>19869.00</td>\n",
       "    </tr>\n",
       "    <tr>\n",
       "      <th>50%</th>\n",
       "      <td>65894.00</td>\n",
       "      <td>45623.00</td>\n",
       "    </tr>\n",
       "    <tr>\n",
       "      <th>75%</th>\n",
       "      <td>85781.00</td>\n",
       "      <td>70467.00</td>\n",
       "    </tr>\n",
       "    <tr>\n",
       "      <th>max</th>\n",
       "      <td>222030.00</td>\n",
       "      <td>241470.00</td>\n",
       "    </tr>\n",
       "  </tbody>\n",
       "</table>\n",
       "</div>"
      ],
      "text/plain": [
       "       population     profit\n",
       "count       97.00      97.00\n",
       "mean     81598.00   58391.35\n",
       "std      38698.84   55102.62\n",
       "min      50269.00  -26807.00\n",
       "25%      57077.00   19869.00\n",
       "50%      65894.00   45623.00\n",
       "75%      85781.00   70467.00\n",
       "max     222030.00  241470.00"
      ]
     },
     "execution_count": 4,
     "metadata": {},
     "output_type": "execute_result"
    }
   ],
   "source": [
    "# get some basic statistics\n",
    "df.describe().apply(lambda x: x.round(2))"
   ]
  },
  {
   "cell_type": "code",
   "execution_count": 5,
   "metadata": {},
   "outputs": [
    {
     "data": {
      "image/png": "[encoded data removed]",
      "text/plain": [
       "<matplotlib.figure.Figure at 0x113ba3b70>"
      ]
     },
     "metadata": {},
     "output_type": "display_data"
    }
   ],
   "source": [
    "# Make a scatterplot of the data\n",
    "plt.scatter(df.population, df.profit)\n",
    "plt.xlabel('population')\n",
    "plt.ylabel('profit')\n",
    "plt.show()"
   ]
  },
  {
   "cell_type": "markdown",
   "metadata": {
    "collapsed": true
   },
   "source": [
    "## Gradient descent algorithm\n",
    "\n",
    "$$ \\textrm{Cost Function :} \\quad J(\\theta) = \\frac{1}{2} \\sum_{i=1}^m ( h_{\\theta}(x^{(i)}) - y^{(i)} )^2 $$"
   ]
  },
  {
   "cell_type": "code",
   "execution_count": 16,
   "metadata": {
    "collapsed": true
   },
   "outputs": [],
   "source": [
    "def cost(X, y, theta):\n",
    "    '''Compute the cost function. \n",
    "    Inputs:\n",
    "    X is an m by n matrix, where m = # of training examples\n",
    "                                 n = # of features\n",
    "    y is an n-dimensional vector (array)\n",
    "    theta is an m-dimensional vector (array)'''\n",
    "    \n",
    "    squared_error = np.power( np.dot(theta, X) - y, 2 )\n",
    "    return 0.5 * sum(squared_error)\n",
    "    "
   ]
  },
  {
   "cell_type": "code",
   "execution_count": 52,
   "metadata": {},
   "outputs": [
    {
     "name": "stdout",
     "output_type": "stream",
     "text": [
      "[[9 1 0]\n",
      " [9 7 1]\n",
      " [6 3 6]]\n",
      "X = [[1 9 1 0]\n",
      " [1 9 7 1]\n",
      " [1 6 3 6]]\n",
      "y = [9 5 7 4]\n",
      "theta = [0 6 9]\n"
     ]
    }
   ],
   "source": [
    "# test the function with some examples.  \n",
    "X = np.random.randint(10, size = (3, 3))\n",
    "print(X)\n",
    "# we define all the x_0s to be 1 by convention (so the formula above is cleaner) \n",
    "X = np.insert(X, 0, 1, axis = 1)\n",
    "y = np.random.randint(10, size = 4)\n",
    "theta = np.random.randint(10, size = 3)\n",
    "print('X =', X)\n",
    "print('y =', y)\n",
    "print('theta =', theta)"
   ]
  },
  {
   "cell_type": "code",
   "execution_count": 53,
   "metadata": {},
   "outputs": [
    {
     "name": "stdout",
     "output_type": "stream",
     "text": [
      "theta*X = [ 15 108  69  60]\n",
      "theta*X - y = [  6 103  62  56]\n",
      "squared_error = [   36 10609  3844  3136]\n",
      "cost = 8812.5\n"
     ]
    }
   ],
   "source": [
    "print( 'theta*X =', np.dot(theta, X) )\n",
    "print( 'theta*X - y =', np.dot(theta, X) - y )\n",
    "squared_error = np.power(np.dot(theta, X) - y, 2 )\n",
    "print('squared_error =', squared_error)\n",
    "print( 'cost =', 0.5 * sum(squared_error) )"
   ]
  },
  {
   "cell_type": "code",
   "execution_count": 54,
   "metadata": {},
   "outputs": [
    {
     "data": {
      "text/plain": [
       "8812.5"
      ]
     },
     "execution_count": 54,
     "metadata": {},
     "output_type": "execute_result"
    }
   ],
   "source": [
    "cost(X,y,theta)"
   ]
  },
  {
   "cell_type": "code",
   "execution_count": null,
   "metadata": {
    "collapsed": true
   },
   "outputs": [],
   "source": []
  }
 ],
 "metadata": {
  "kernelspec": {
   "display_name": "Python 3",
   "language": "python",
   "name": "python3"
  },
  "language_info": {
   "codemirror_mode": {
    "name": "ipython",
    "version": 3
   },
   "file_extension": ".py",
   "mimetype": "text/x-python",
   "name": "python",
   "nbconvert_exporter": "python",
   "pygments_lexer": "ipython3",
   "version": "3.6.1"
  }
 },
 "nbformat": 4,
 "nbformat_minor": 2
}
