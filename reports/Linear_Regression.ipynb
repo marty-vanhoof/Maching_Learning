{
 "cells": [
  {
   "cell_type": "markdown",
   "metadata": {},
   "source": [
    "# Linear Regression\n",
    "\n",
    "We can think of linear regression as the \"grandfather\" of supervised machine learning.  It developed as an important technique in statistics long before machine learning existed as a field in its own right.  The idea in supervised learning is that we have a data set called the **training data**.  The training data consists of a set of pairs $\\{ \\, ( \\mathbf{x}_1,y_1 ), ( \\mathbf{x}_2,y_2 ) \\ldots,  ( \\mathbf{x}_m,y_m ) \\, \\}$, where each input variable $\\mathbf{x}_i$ is a vector called a **feature vector**, and the output variables $y_i$ (usually real numbers) are the corresponding **labels**.  \n",
    "\n",
    "If $\\mathcal{X}$ is the input space and $\\mathcal{Y}$ is the output space, then the objective of a supervised learning algorithm is to \"learn\" a function $h: \\mathcal{X} \\rightarrow \\mathcal{Y}$ that approximates the training data and will generalize in order to predict the output for new instances.  When the target space $\\mathcal{Y}$ consists of continuous data, then the learning problem is called a **regression** problem.  When the target space $\\mathcal{Y}$ consists of discrete data, then the learning problem is called a **classification** problem.\n",
    "\n",
    "### Simple Linear Regression\n",
    "\n",
    "In simple linear regression, we have $\\mathcal{X} = \\mathcal{Y} = \\mathbb{R}$, so that $h: \\mathbb{R} \\rightarrow \\mathbb{R}$ is a function from the real numbers to the real numbers, and $h$ is a linear function of the form $h_{\\theta}(x) = \\theta_0 + \\theta_1 x$, where $\\theta_1, \\theta_2$ are called the **weights**.  The training data will then consist of a bunch of points in the plane, and we are trying the find a line that \"best fits\" the data.  This line is called the **least squares line**  (image from [wikipedia](https://en.wikipedia.org/wiki/Linear_regression))\n",
    "\n",
    "<br/>\n",
    "<img src=\"least_squares_line.png\">\n",
    "<br/>\n",
    "\n",
    "Now let's look at an example.  This example comes from one of the programming exercises in Andrew Ng's machine learning course.  Suppose you are the CEO of a food truck franchise and you are considering different cities where you can expand your business.  Your chain already has trucks in a number of cities and you have [data](https://github.com/marty-vanhoof/Maching_Learning/blob/master/data/ex1data1.txt) about the population of each city and the profit of the corresponding food truck.  You would like to estimate the expected profit of a new food truck given only the population of a city (admittedly this example is a little simplistic, but it's good for illustrating the main ideas in linear regression).\n",
    "\n",
    "We will use Pandas to analyze the data.  First we import the modules that we need."
   ]
  },
  {
   "cell_type": "code",
   "execution_count": 1,
   "metadata": {
    "collapsed": true
   },
   "outputs": [],
   "source": [
    "import os\n",
    "import numpy as np\n",
    "import pandas as pd\n",
    "import matplotlib.pyplot as plt\n",
    "%matplotlib inline"
   ]
  },
  {
   "cell_type": "markdown",
   "metadata": {},
   "source": [
    "Next let's load the dataframe and take a look at the first 5 rows.  The population and profit columns are in units of $10000, so to get the actual numbers just multiply by 10000.  We can also use Panda's ```describe()``` function to get some statistics about the dataset."
   ]
  },
  {
   "cell_type": "code",
   "execution_count": 2,
   "metadata": {},
   "outputs": [
    {
     "data": {
      "text/html": [
       "<div>\n",
       "<style>\n",
       "    .dataframe thead tr:only-child th {\n",
       "        text-align: right;\n",
       "    }\n",
       "\n",
       "    .dataframe thead th {\n",
       "        text-align: left;\n",
       "    }\n",
       "\n",
       "    .dataframe tbody tr th {\n",
       "        vertical-align: top;\n",
       "    }\n",
       "</style>\n",
       "<table border=\"1\" class=\"dataframe\">\n",
       "  <thead>\n",
       "    <tr style=\"text-align: right;\">\n",
       "      <th></th>\n",
       "      <th>population</th>\n",
       "      <th>profit</th>\n",
       "    </tr>\n",
       "  </thead>\n",
       "  <tbody>\n",
       "    <tr>\n",
       "      <th>0</th>\n",
       "      <td>6.1101</td>\n",
       "      <td>17.5920</td>\n",
       "    </tr>\n",
       "    <tr>\n",
       "      <th>1</th>\n",
       "      <td>5.5277</td>\n",
       "      <td>9.1302</td>\n",
       "    </tr>\n",
       "    <tr>\n",
       "      <th>2</th>\n",
       "      <td>8.5186</td>\n",
       "      <td>13.6620</td>\n",
       "    </tr>\n",
       "    <tr>\n",
       "      <th>3</th>\n",
       "      <td>7.0032</td>\n",
       "      <td>11.8540</td>\n",
       "    </tr>\n",
       "    <tr>\n",
       "      <th>4</th>\n",
       "      <td>5.8598</td>\n",
       "      <td>6.8233</td>\n",
       "    </tr>\n",
       "  </tbody>\n",
       "</table>\n",
       "</div>"
      ],
      "text/plain": [
       "   population   profit\n",
       "0      6.1101  17.5920\n",
       "1      5.5277   9.1302\n",
       "2      8.5186  13.6620\n",
       "3      7.0032  11.8540\n",
       "4      5.8598   6.8233"
      ]
     },
     "execution_count": 2,
     "metadata": {},
     "output_type": "execute_result"
    }
   ],
   "source": [
    "filepath = os.getcwd() + '/ex1data1.txt'\n",
    "df = pd.read_csv(filepath, names = ['population', 'profit'])\n",
    "df.head()"
   ]
  },
  {
   "cell_type": "code",
   "execution_count": 3,
   "metadata": {},
   "outputs": [
    {
     "data": {
      "text/html": [
       "<div>\n",
       "<style>\n",
       "    .dataframe thead tr:only-child th {\n",
       "        text-align: right;\n",
       "    }\n",
       "\n",
       "    .dataframe thead th {\n",
       "        text-align: left;\n",
       "    }\n",
       "\n",
       "    .dataframe tbody tr th {\n",
       "        vertical-align: top;\n",
       "    }\n",
       "</style>\n",
       "<table border=\"1\" class=\"dataframe\">\n",
       "  <thead>\n",
       "    <tr style=\"text-align: right;\">\n",
       "      <th></th>\n",
       "      <th>population</th>\n",
       "      <th>profit</th>\n",
       "    </tr>\n",
       "  </thead>\n",
       "  <tbody>\n",
       "    <tr>\n",
       "      <th>count</th>\n",
       "      <td>97.0000</td>\n",
       "      <td>97.0000</td>\n",
       "    </tr>\n",
       "    <tr>\n",
       "      <th>mean</th>\n",
       "      <td>8.1598</td>\n",
       "      <td>5.8391</td>\n",
       "    </tr>\n",
       "    <tr>\n",
       "      <th>std</th>\n",
       "      <td>3.8699</td>\n",
       "      <td>5.5103</td>\n",
       "    </tr>\n",
       "    <tr>\n",
       "      <th>min</th>\n",
       "      <td>5.0269</td>\n",
       "      <td>-2.6807</td>\n",
       "    </tr>\n",
       "    <tr>\n",
       "      <th>25%</th>\n",
       "      <td>5.7077</td>\n",
       "      <td>1.9869</td>\n",
       "    </tr>\n",
       "    <tr>\n",
       "      <th>50%</th>\n",
       "      <td>6.5894</td>\n",
       "      <td>4.5623</td>\n",
       "    </tr>\n",
       "    <tr>\n",
       "      <th>75%</th>\n",
       "      <td>8.5781</td>\n",
       "      <td>7.0467</td>\n",
       "    </tr>\n",
       "    <tr>\n",
       "      <th>max</th>\n",
       "      <td>22.2030</td>\n",
       "      <td>24.1470</td>\n",
       "    </tr>\n",
       "  </tbody>\n",
       "</table>\n",
       "</div>"
      ],
      "text/plain": [
       "       population   profit\n",
       "count     97.0000  97.0000\n",
       "mean       8.1598   5.8391\n",
       "std        3.8699   5.5103\n",
       "min        5.0269  -2.6807\n",
       "25%        5.7077   1.9869\n",
       "50%        6.5894   4.5623\n",
       "75%        8.5781   7.0467\n",
       "max       22.2030  24.1470"
      ]
     },
     "execution_count": 3,
     "metadata": {},
     "output_type": "execute_result"
    }
   ],
   "source": [
    "# get some basic statistics\n",
    "df.describe().apply(lambda x: x.round(4))"
   ]
  },
  {
   "cell_type": "markdown",
   "metadata": {},
   "source": [
    "A scatterplot of the data suggests a positive correlation between population and profit, and many of the data points cluster around cities with lower populations. "
   ]
  },
  {
   "cell_type": "code",
   "execution_count": 4,
   "metadata": {},
   "outputs": [
    {
     "data": {
      "image/png": "[encoded data removed]",
      "text/plain": [
       "<matplotlib.figure.Figure at 0x1189a58d0>"
      ]
     },
     "metadata": {},
     "output_type": "display_data"
    }
   ],
   "source": [
    "# Make a scatterplot of the data\n",
    "plt.scatter(df.population, df.profit)\n",
    "plt.xlabel('population')\n",
    "plt.ylabel('profit')\n",
    "plt.show()"
   ]
  },
  {
   "cell_type": "markdown",
   "metadata": {
    "collapsed": true
   },
   "source": [
    "### The Gradient Descent Algorithm\n",
    "\n",
    "Let's write the feature vector $\\mathbf{x}_i$ as a row vector $\\mathbf{x}_i = (x_{i0}, x_{i1}, \\dots, x_{in})$, where $x_{i0} = 1$ for all $i = 1, \\ldots, m$, so that $n$ is the dimension of the feature space $\\mathcal{X}$ and $m$ is the number of training examples.  We want an algorithm that will find the parameters $\\theta_0, \\theta_1, \\ldots, \\theta_n$ so that the function $h_\\theta(\\mathbf{x}_i) = \\theta_0 x_{i0} + \\theta_2 x_{i1} + \\ldots + \\theta_n x_{in}$  provides an optimal fit to the data.  The algorithm that does this is called $\\textbf{gradient} \\, \\textbf{descent}$.  By convention, we always set the first component of the vector $\\mathbf{x}_i$ equal to 1, because we need to have the constant term $\\theta_0$ in the expression for $h_\\theta(\\mathbf{x}_i)$.\n",
    "\n",
    "The gradient descent algorithm will find the parameters $\\theta = (\\theta_0, \\theta_1 \\ldots, \\theta_n)$ that minimize the function\n",
    "\n",
    "$$ J(\\theta) = \\frac{1}{2m} \\sum_{i=1}^m ( h_{\\theta}( \\mathbf{x}_i ) - y_i )^2 \\, , $$\n",
    "\n",
    "where $$ h_{\\theta}(\\mathbf{x}_i) = \\theta_0 x_{i0} + \\theta_2 x_{i2} + \\ldots + \\theta_n x_{in} = \\sum_{j=0}^n \\theta_j x_{ij} $$\n",
    "\n",
    "This function $J(\\theta)$ is called the **residual sum of squares** (RSS) in statistics, and in the machine learning literature it is often called a $\\textbf{cost} \\, \\mathbf{function}$.  It is an average of the squared distances between each $h_{\\theta}(\\mathbf{x}_i)$ and the target variable $y_i$, and it measures how tightly our function $h_\\theta$ fits the data.  \n",
    "\n",
    "Let's implement this cost function in Python using numpy's linear algebra capabilities.  In order to do this, we should write $J(\\theta)$ in matrix form.  If we put each feature vector $\\mathbf{x}_1, \\mathbf{x}_2, \\ldots, \\mathbf{x}_m$ as the rows of a matrix $X$ and the labels $y_1, y_2, \\ldots, y_m$ in a column vector $\\mathbf{y}$, then we have \n",
    "\n",
    "<br/>\n",
    "$$ X = \n",
    "\\begin{bmatrix} \\tag{1}\n",
    "1 & x_{12} & x_{13} & \\cdots & x_{1n} \\\\\n",
    "1 & x_{22} & x_{23} & \\cdots & x_{2n} \\\\\n",
    "\\vdots & \\vdots & & & \\vdots \\\\\n",
    "1 & x_{m2} & x_{m3} & \\cdots & x_{mn}\n",
    "\\end{bmatrix} \\, , \\quad\n",
    "\\mathbf{y} = \n",
    "\\begin{bmatrix}\n",
    "y_1 \\\\\n",
    "y_2 \\\\\n",
    "\\vdots \\\\\n",
    "y_m\n",
    "\\end{bmatrix} \\, , \\quad\n",
    "\\theta =\n",
    "\\begin{bmatrix}\n",
    "\\theta_1 & \\theta_2 & \\cdots & \\theta_n\n",
    "\\end{bmatrix}\n",
    "$$\n",
    "<br/>\n",
    "\n",
    "and if $\\theta^T$ is the transpose of $\\theta$, then we can write\n",
    "\n",
    "<br/>\n",
    "$$ X \\theta^T - \\mathbf{y} = \n",
    "\\begin{bmatrix} \\tag{2}\n",
    "h_\\theta(\\mathbf{x}_1) - y_1 \\\\\n",
    "h_\\theta(\\mathbf{x}_2) - y_2 \\\\\n",
    "\\vdots \\\\\n",
    "h_\\theta(\\mathbf{x}_m) - y_m\n",
    "\\end{bmatrix} \\, .\n",
    "$$\n",
    "<br/>\n",
    "\n",
    "Therefore, if we square each entry of $X \\theta^T - \\mathbf{y}$, then add all the entries and divide by $2m$, we get the expression for $J(\\theta)$.  Numpy can do this very easily."
   ]
  },
  {
   "cell_type": "code",
   "execution_count": 5,
   "metadata": {
    "collapsed": true
   },
   "outputs": [],
   "source": [
    "def compute_cost(X, y, theta):\n",
    "    '''Compute the cost function. \n",
    "    Inputs:\n",
    "    X is an m by (n+1) numpy matrix, where m = # of training examples\n",
    "                                     n = # of features (excluding the \"1\" column)\n",
    "    y is an m by 1 numpy matrix\n",
    "    theta is a 1 by n numpy matrix'''\n",
    "    \n",
    "    squared_residuals = np.power(X*theta.T - y, 2)\n",
    "    return np.sum(squared_residuals) / (2 * len(X)) "
   ]
  },
  {
   "cell_type": "markdown",
   "metadata": {},
   "source": [
    "The gradient descent algorithm starts with some initial value of $\\theta$, say $\\theta = (0, 0, \\ldots, 0)$, and then updates the components of $\\theta$ on each iteration in order to reduce $J(\\theta)$ until we get to the minimum of $J(\\theta)$.  The update rule is given by\n",
    "\n",
    "\n",
    "$$ \\theta_j := \\theta_j - \\alpha \\frac{\\partial}{\\partial \\theta_j} J(\\theta) \\quad \\textrm{for all } \\, j = 0, \\ldots, n $$\n",
    "\n",
    "where $\\alpha$ is a parameter called the $\\textbf{learning} \\, \\textbf{rate}$.  We use the symbol \":=\" for the assignment operator, so that in each iteration, all the values of $\\theta_j$ are overwritten by the values on the right-hand side.  \n",
    "\n",
    "If you know some calculus, then it's not hard to verify that \n",
    "\n",
    "$$ \\frac{\\partial}{\\partial \\theta_j} J(\\theta) = \\frac{1}{m} \\sum_{i=1}^m (h_\\theta(\\mathbf{x}_i) - y_i) \\, x_{ij} \\quad \\textrm{for all } \\, j = 0, \\ldots, n $$\n",
    "\n",
    "so the update rule becomes\n",
    "\n",
    "\\begin{equation} \\tag{3}\n",
    "\\theta_j := \\theta_j -  \\alpha \\frac{1}{m} \\sum_{i=1}^m (h_\\theta(\\mathbf{x}_i) - y_i) \\, x_{ij} \\quad \\textrm{( for all j )} \n",
    "\\end{equation}\n",
    "\n",
    "and we should repeat until the algorithm converges.  This begs the question of whether the algorithm will always converge, and the answer is yes, at least for linear regression and when the learning rate $\\alpha$ is not too large. \n",
    "\n",
    "There is a very geometric reason why this algorithm works.  When $h_\\theta(\\mathbf{x}_i)$ is linear, the function\n",
    "\n",
    "$$ J(\\theta) = \\frac{1}{2m} \\sum_{i=1}^m ( h_{\\theta}( \\mathbf{x}_i ) - y_i )^2 \\, , $$\n",
    "\n",
    "is a convex quadratic function in the variables $\\theta_0, \\theta_1, \\ldots, \\theta_n$, so the graph of $J(\\theta)$ is a smooth $n$-dimensional \"surface\" (called a manifold) that is convex and has a global minimum.  The [gradient](https://en.wikipedia.org/wiki/Gradient) is the vector field that gives the direction of steepest ascent at each point on the manifold.  Then the negative of the gradient will give the direction of steepest descent at every point.  This is where the name \"gradient descent\" comes from.  So if we start at a particular point on the manifold, then the algorithm tells us to follow the negative gradient on each iteration, and this will eventually lead us to the global minimum.  The cost function will decrease on every iteration, but the magnitude of the changes become smaller and smaller as we approach the global minimum.  In practice, we usually stop the algorithm before the global minimum is reached.  To visualize it better, think of a 2 dimensional surface that is bowl-shaped, such as the one on [this page](http://charlesfranzen.com/posts/multiple-regression-in-python-gradient-descent/).\n",
    "\n",
    "This algorithm we just described is actually called **batch gradient descent** and generally works well except when the number of training examples is really large.  The batch gradient descent algorithm will read in and sum over all the training examples at every iteration.  This is computationally expensive when the dataset is really large.  In this case, there's an alternative algorithm called [stochastic gradient descent](https://en.wikipedia.org/wiki/Stochastic_gradient_descent), but we won't get into that.\n",
    "\n",
    "Let's go back to the example about the food truck franchise.  Recall that the first 5 rows of our dataset look like this "
   ]
  },
  {
   "cell_type": "code",
   "execution_count": 6,
   "metadata": {},
   "outputs": [
    {
     "data": {
      "text/html": [
       "<div>\n",
       "<style>\n",
       "    .dataframe thead tr:only-child th {\n",
       "        text-align: right;\n",
       "    }\n",
       "\n",
       "    .dataframe thead th {\n",
       "        text-align: left;\n",
       "    }\n",
       "\n",
       "    .dataframe tbody tr th {\n",
       "        vertical-align: top;\n",
       "    }\n",
       "</style>\n",
       "<table border=\"1\" class=\"dataframe\">\n",
       "  <thead>\n",
       "    <tr style=\"text-align: right;\">\n",
       "      <th></th>\n",
       "      <th>population</th>\n",
       "      <th>profit</th>\n",
       "    </tr>\n",
       "  </thead>\n",
       "  <tbody>\n",
       "    <tr>\n",
       "      <th>0</th>\n",
       "      <td>6.1101</td>\n",
       "      <td>17.5920</td>\n",
       "    </tr>\n",
       "    <tr>\n",
       "      <th>1</th>\n",
       "      <td>5.5277</td>\n",
       "      <td>9.1302</td>\n",
       "    </tr>\n",
       "    <tr>\n",
       "      <th>2</th>\n",
       "      <td>8.5186</td>\n",
       "      <td>13.6620</td>\n",
       "    </tr>\n",
       "    <tr>\n",
       "      <th>3</th>\n",
       "      <td>7.0032</td>\n",
       "      <td>11.8540</td>\n",
       "    </tr>\n",
       "    <tr>\n",
       "      <th>4</th>\n",
       "      <td>5.8598</td>\n",
       "      <td>6.8233</td>\n",
       "    </tr>\n",
       "  </tbody>\n",
       "</table>\n",
       "</div>"
      ],
      "text/plain": [
       "   population   profit\n",
       "0      6.1101  17.5920\n",
       "1      5.5277   9.1302\n",
       "2      8.5186  13.6620\n",
       "3      7.0032  11.8540\n",
       "4      5.8598   6.8233"
      ]
     },
     "execution_count": 6,
     "metadata": {},
     "output_type": "execute_result"
    }
   ],
   "source": [
    "df.head()"
   ]
  },
  {
   "cell_type": "markdown",
   "metadata": {},
   "source": [
    "We will first compute the cost function $J(\\theta)$ for this dataset, which means that we need the values for $X, \\mathbf{y}$, and $\\theta$.  We will initialize each component of $\\theta$ to zero:  $\\theta = (0,0)$.  The vector $\\mathbf{y}$ is the profit column, and our matrix $X$ will be the other column plus a column of ones that we need to insert into the dataframe."
   ]
  },
  {
   "cell_type": "code",
   "execution_count": 7,
   "metadata": {},
   "outputs": [
    {
     "data": {
      "text/html": [
       "<div>\n",
       "<style>\n",
       "    .dataframe thead tr:only-child th {\n",
       "        text-align: right;\n",
       "    }\n",
       "\n",
       "    .dataframe thead th {\n",
       "        text-align: left;\n",
       "    }\n",
       "\n",
       "    .dataframe tbody tr th {\n",
       "        vertical-align: top;\n",
       "    }\n",
       "</style>\n",
       "<table border=\"1\" class=\"dataframe\">\n",
       "  <thead>\n",
       "    <tr style=\"text-align: right;\">\n",
       "      <th></th>\n",
       "      <th>ones</th>\n",
       "      <th>population</th>\n",
       "      <th>profit</th>\n",
       "    </tr>\n",
       "  </thead>\n",
       "  <tbody>\n",
       "    <tr>\n",
       "      <th>0</th>\n",
       "      <td>1</td>\n",
       "      <td>6.1101</td>\n",
       "      <td>17.5920</td>\n",
       "    </tr>\n",
       "    <tr>\n",
       "      <th>1</th>\n",
       "      <td>1</td>\n",
       "      <td>5.5277</td>\n",
       "      <td>9.1302</td>\n",
       "    </tr>\n",
       "    <tr>\n",
       "      <th>2</th>\n",
       "      <td>1</td>\n",
       "      <td>8.5186</td>\n",
       "      <td>13.6620</td>\n",
       "    </tr>\n",
       "    <tr>\n",
       "      <th>3</th>\n",
       "      <td>1</td>\n",
       "      <td>7.0032</td>\n",
       "      <td>11.8540</td>\n",
       "    </tr>\n",
       "    <tr>\n",
       "      <th>4</th>\n",
       "      <td>1</td>\n",
       "      <td>5.8598</td>\n",
       "      <td>6.8233</td>\n",
       "    </tr>\n",
       "  </tbody>\n",
       "</table>\n",
       "</div>"
      ],
      "text/plain": [
       "   ones  population   profit\n",
       "0     1      6.1101  17.5920\n",
       "1     1      5.5277   9.1302\n",
       "2     1      8.5186  13.6620\n",
       "3     1      7.0032  11.8540\n",
       "4     1      5.8598   6.8233"
      ]
     },
     "execution_count": 7,
     "metadata": {},
     "output_type": "execute_result"
    }
   ],
   "source": [
    "# insert column of ones\n",
    "df.insert(0, 'ones', 1)\n",
    "df.head()"
   ]
  },
  {
   "cell_type": "code",
   "execution_count": 8,
   "metadata": {},
   "outputs": [
    {
     "name": "stdout",
     "output_type": "stream",
     "text": [
      "Cost with initial theta:  32.0727338775\n"
     ]
    }
   ],
   "source": [
    "# get the training data X and the target variable y\n",
    "X = df[['ones', 'population']]\n",
    "y = df['profit']\n",
    "\n",
    "# initialize theta to (0,0)\n",
    "theta = np.array([0,0])\n",
    "\n",
    "# transform into numpy matrices so we can do linear algebra with them\n",
    "X, y, theta = np.matrix(X), np.matrix(y).T, np.matrix(theta)\n",
    "\n",
    "# compute the cost function with initial theta = (0,0)\n",
    "print( 'Cost with initial theta: ', compute_cost(X, y, theta) )"
   ]
  },
  {
   "cell_type": "markdown",
   "metadata": {},
   "source": [
    "### Implementing Gradient Descent\n",
    "\n",
    "Let's now implement the batch gradient descent algorithm using the update rule $\\mathrm{(3)}$ from above.  To do this compactly, we will write the update rule in matrix form and then exploit numpy's linear algebra capabilities.  Using the matrices $X$ and $X \\theta^T - \\mathbf{y}$ from $\\mathrm{(1)}$ and $\\mathrm{(2)}$ above and doing a little matrix algebra, we can show that the update rule $\\mathrm{(3)}$ can be written as\n",
    "\n",
    "$$ \\theta := \\theta - \\frac{\\alpha}{m} (X \\theta^T - \\mathbf{y})^T X \\,\\,, $$\n",
    "\n",
    "where $(X \\theta^T - \\mathbf{y})^T$ is the transpose of the matrix $X \\theta^T - \\mathbf{y}$.  We can use this to update all the parameters $\\theta = (\\theta_0, \\ldots, \\theta_n)$ in each iteration without resorting to nested \"for\" loops"
   ]
  },
  {
   "cell_type": "code",
   "execution_count": 9,
   "metadata": {
    "scrolled": false
   },
   "outputs": [
    {
     "name": "stdout",
     "output_type": "stream",
     "text": [
      "theta_fit =  [[-3.24140214  1.1272942 ]]\n"
     ]
    }
   ],
   "source": [
    "def gradient_descent(X, y, theta, alpha, num_iterations):\n",
    "    '''Implement the gradient descent algorithm.\n",
    "    Inputs:\n",
    "    X is an m by (n+1) numpy matrix, where m = # of training examples\n",
    "                                     n = # of features (excluding the \"1\" column)\n",
    "    y is an m by 1 numpy matrix\n",
    "    theta is a 1 by n numpy matrix\n",
    "    alpha is the learning rate\n",
    "    num_iterations is how many times we want to update the parameters theta'''\n",
    "    \n",
    "    m = len(y)\n",
    "    # to store the values of compute_cost() on each iteration\n",
    "    cost_history = np.empty(num_iterations)\n",
    "    \n",
    "    for k in range(0, num_iterations):\n",
    "        residuals = X*theta.T - y\n",
    "        # update rule \n",
    "        theta = theta - (alpha / m) * (residuals.T)*X\n",
    "        cost_history[k] = compute_cost(X, y, theta)\n",
    "        \n",
    "    # change back to numpy arrays with proper dimensions and return\n",
    "    #return np.asarray(theta).reshape(-1), np.asarray(cost_history).reshape(-1)\n",
    "    return theta, cost_history\n",
    "        \n",
    "# run the algorithm with the parameters below\n",
    "alpha = 0.01\n",
    "num_iterations = 1000\n",
    "\n",
    "theta_fit, cost_hist = gradient_descent(X, y, theta, alpha, num_iterations)\n",
    "print('theta_fit = ', theta_fit)"
   ]
  },
  {
   "cell_type": "markdown",
   "metadata": {},
   "source": [
    "### Plotting the Fitted Line\n",
    "\n",
    "The algorithm returns the fitted parameters $\\theta_0 = -3.2414$ and $\\theta_1 = 1.1273$.  This means that after 1000 iterations, the line of best fit is given by \n",
    "\n",
    "$$ h_\\theta(x) = -3.2414 + 1.1273x  $$\n",
    "\n",
    "Note that ```gradient_descent()``` returns $\\theta$ as a 1 by 2 numpy matrix "
   ]
  },
  {
   "cell_type": "code",
   "execution_count": 10,
   "metadata": {},
   "outputs": [
    {
     "name": "stdout",
     "output_type": "stream",
     "text": [
      "<class 'numpy.matrixlib.defmatrix.matrix'>\n",
      "(1, 2)\n"
     ]
    }
   ],
   "source": [
    "print( type(theta_fit) )\n",
    "print( theta_fit.shape )"
   ]
  },
  {
   "cell_type": "markdown",
   "metadata": {},
   "source": [
    "so we can get the numbers by specifying the matrix components [0,0] and [0,1].  "
   ]
  },
  {
   "cell_type": "code",
   "execution_count": 11,
   "metadata": {},
   "outputs": [
    {
     "name": "stdout",
     "output_type": "stream",
     "text": [
      "-3.24140214427 1.12729420243\n"
     ]
    }
   ],
   "source": [
    "theta_0 = theta_fit[0,0]\n",
    "theta_1 = theta_fit[0,1]\n",
    "print( theta_0, theta_1 )"
   ]
  },
  {
   "cell_type": "markdown",
   "metadata": {},
   "source": [
    "Now we are ready to plot the line over the scatterplot from above"
   ]
  },
  {
   "cell_type": "code",
   "execution_count": 12,
   "metadata": {},
   "outputs": [
    {
     "data": {
      "image/png": "[encoded data removed]",
      "text/plain": [
       "<matplotlib.figure.Figure at 0x11ac6c860>"
      ]
     },
     "metadata": {},
     "output_type": "display_data"
    }
   ],
   "source": [
    "x = np.arange(df.population.min(), df.population.max())\n",
    "y = theta_0 + theta_1 * x\n",
    "plt.plot(x,y, color = 'red', label = 'prediction')\n",
    "plt.scatter(df.population, df.profit, label = 'training data')\n",
    "plt.xlabel('population')\n",
    "plt.ylabel('profit')\n",
    "plt.legend(loc = 4)\n",
    "plt.show()"
   ]
  },
  {
   "cell_type": "markdown",
   "metadata": {
    "collapsed": true
   },
   "source": [
    "### Plotting the Surface for $J(\\theta)$"
   ]
  },
  {
   "cell_type": "code",
   "execution_count": 13,
   "metadata": {
    "collapsed": true
   },
   "outputs": [],
   "source": [
    "from mpl_toolkits.mplot3d import Axes3D"
   ]
  },
  {
   "cell_type": "code",
   "execution_count": 21,
   "metadata": {
    "scrolled": false
   },
   "outputs": [
    {
     "name": "stdout",
     "output_type": "stream",
     "text": [
      "-10 -1\n",
      "-10 0\n",
      "-10 1\n",
      "-10 2\n",
      "-10 3\n",
      "-10 4\n",
      "-9 -1\n",
      "-9 0\n",
      "-9 1\n",
      "-9 2\n",
      "-9 3\n",
      "-9 4\n",
      "-8 -1\n",
      "-8 0\n",
      "-8 1\n",
      "-8 2\n",
      "-8 3\n",
      "-8 4\n",
      "-7 -1\n",
      "-7 0\n",
      "-7 1\n",
      "-7 2\n",
      "-7 3\n",
      "-7 4\n",
      "-6 -1\n",
      "-6 0\n",
      "-6 1\n",
      "-6 2\n",
      "-6 3\n",
      "-6 4\n",
      "-5 -1\n",
      "-5 0\n",
      "-5 1\n",
      "-5 2\n",
      "-5 3\n",
      "-5 4\n",
      "-4 -1\n",
      "-4 0\n",
      "-4 1\n",
      "-4 2\n",
      "-4 3\n",
      "-4 4\n",
      "-3 -1\n",
      "-3 0\n",
      "-3 1\n",
      "-3 2\n",
      "-3 3\n",
      "-3 4\n",
      "-2 -1\n",
      "-2 0\n",
      "-2 1\n",
      "-2 2\n",
      "-2 3\n",
      "-2 4\n",
      "-1 -1\n",
      "-1 0\n",
      "-1 1\n",
      "-1 2\n",
      "-1 3\n",
      "-1 4\n",
      "0 -1\n",
      "0 0\n",
      "0 1\n",
      "0 2\n",
      "0 3\n",
      "0 4\n",
      "1 -1\n",
      "1 0\n",
      "1 1\n",
      "1 2\n",
      "1 3\n",
      "1 4\n",
      "2 -1\n",
      "2 0\n",
      "2 1\n",
      "2 2\n",
      "2 3\n",
      "2 4\n",
      "3 -1\n",
      "3 0\n",
      "3 1\n",
      "3 2\n",
      "3 3\n",
      "3 4\n",
      "4 -1\n",
      "4 0\n",
      "4 1\n",
      "4 2\n",
      "4 3\n",
      "4 4\n",
      "5 -1\n",
      "5 0\n",
      "5 1\n",
      "5 2\n",
      "5 3\n",
      "5 4\n",
      "6 -1\n",
      "6 0\n",
      "6 1\n",
      "6 2\n",
      "6 3\n",
      "6 4\n",
      "7 -1\n",
      "7 0\n",
      "7 1\n",
      "7 2\n",
      "7 3\n",
      "7 4\n",
      "8 -1\n",
      "8 0\n",
      "8 1\n",
      "8 2\n",
      "8 3\n",
      "8 4\n",
      "9 -1\n",
      "9 0\n",
      "9 1\n",
      "9 2\n",
      "9 3\n",
      "9 4\n",
      "10 -1\n",
      "10 0\n",
      "10 1\n",
      "10 2\n",
      "10 3\n",
      "10 4\n"
     ]
    }
   ],
   "source": [
    "theta_0_range = np.arange(-10, 11)\n",
    "theta_1_range = np.arange(-1, 5)\n",
    "for t0 in theta_0_range:\n",
    "    for t1 in theta_1_range:\n",
    "        "
   ]
  },
  {
   "cell_type": "code",
   "execution_count": null,
   "metadata": {
    "collapsed": true
   },
   "outputs": [],
   "source": []
  }
 ],
 "metadata": {
  "kernelspec": {
   "display_name": "Python 3",
   "language": "python",
   "name": "python3"
  },
  "language_info": {
   "codemirror_mode": {
    "name": "ipython",
    "version": 3
   },
   "file_extension": ".py",
   "mimetype": "text/x-python",
   "name": "python",
   "nbconvert_exporter": "python",
   "pygments_lexer": "ipython3",
   "version": "3.6.1"
  }
 },
 "nbformat": 4,
 "nbformat_minor": 2
}
